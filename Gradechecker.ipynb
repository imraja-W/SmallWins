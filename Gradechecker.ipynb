{
  "cells": [
    {
      "cell_type": "markdown",
      "metadata": {
        "id": "view-in-github",
        "colab_type": "text"
      },
      "source": [
        "<a href=\"https://colab.research.google.com/github/imraja-W/SmallWins/blob/main/Gradechecker.ipynb\" target=\"_parent\"><img src=\"https://colab.research.google.com/assets/colab-badge.svg\" alt=\"Open In Colab\"/></a>"
      ]
    },
    {
      "cell_type": "code",
      "execution_count": 67,
      "metadata": {
        "colab": {
          "base_uri": "https://localhost:8080/"
        },
        "id": "lDZNk5Sam7Ry",
        "outputId": "46e3ad2c-5272-40c3-b2d5-bb705f5b9145"
      },
      "outputs": [
        {
          "output_type": "stream",
          "name": "stdout",
          "text": [
            "Excellent\n"
          ]
        }
      ],
      "source": [
        "def grade_checker(score):\n",
        "  if score >=90:\n",
        "    return \"Excellent\"\n",
        "  elif score >=70 and score <=89:\n",
        "    return \"Good\"\n",
        "  elif score >=50 and score <=69:\n",
        "    return \"Average\"\n",
        "  elif score < 50:\n",
        "    return \"Fail\"\n",
        "\n",
        "print(grade_checker(90))"
      ]
    }
  ],
  "metadata": {
    "colab": {
      "provenance": [],
      "authorship_tag": "ABX9TyPP+zvlYDyUVw8P5ZZ+MfHp",
      "include_colab_link": true
    },
    "kernelspec": {
      "display_name": "Python 3",
      "name": "python3"
    },
    "language_info": {
      "name": "python"
    }
  },
  "nbformat": 4,
  "nbformat_minor": 0
}